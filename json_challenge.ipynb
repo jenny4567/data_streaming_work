{
 "cells": [
  {
   "cell_type": "markdown",
   "metadata": {},
   "source": [
    "Below we have some Spark and Kafka code to complete. Here are the steps we want to achieve: - Our objective is to answer the questions in the initial cell, in order to stream the information. - Once we have streamed the information, we want to read it and write to individual csv files. - Then we should load the .csv`` files with our wrestler information into a combined spark DataFrame.\n",
    "\n",
    "Before we get started we should make a new Topic:"
   ]
  },
  {
   "cell_type": "code",
   "execution_count": 1,
   "metadata": {},
   "outputs": [
    {
     "name": "stdout",
     "output_type": "stream",
     "text": [
      "Requirement already satisfied: kafka-python in /opt/conda/lib/python3.11/site-packages (2.0.2)\n",
      "Note: you may need to restart the kernel to use updated packages.\n"
     ]
    }
   ],
   "source": [
    "%pip install kafka-python"
   ]
  },
  {
   "cell_type": "code",
   "execution_count": 20,
   "metadata": {},
   "outputs": [
    {
     "data": {
      "text/plain": [
       "CreateTopicsResponse_v3(throttle_time_ms=0, topic_errors=[(topic='hell_in_a_cell_two', error_code=0, error_message=None)])"
      ]
     },
     "execution_count": 20,
     "metadata": {},
     "output_type": "execute_result"
    }
   ],
   "source": [
    "from kafka.admin import KafkaAdminClient, NewTopic\n",
    "\n",
    "\n",
    "admin_client = KafkaAdminClient(\n",
    "    bootstrap_servers=\"kafka:9092\", \n",
    "    client_id='test_two'\n",
    ")\n",
    "\n",
    "topic_list = []\n",
    "topic_list.append(NewTopic(name=\"hell_in_a_cell_two\", num_partitions=1, replication_factor=1))\n",
    "admin_client.create_topics(new_topics=topic_list, validate_only=False)"
   ]
  },
  {
   "cell_type": "code",
   "execution_count": 39,
   "metadata": {},
   "outputs": [
    {
     "name": "stdout",
     "output_type": "stream",
     "text": [
      "THIS HELL IN A CELL MATCH FEATURES THREE OF THE GREATEST WRESTLERS OF 2001.\n",
      "WELCOME WRESTLER 0!!!\n",
      "{\"name\": \"Triple H\", \"color\": \"Green\", \"song\": \"Throwdown\", \"height\": \"55\"}\n",
      "+-----+------+--------+---------+--------------------+\n",
      "|color|height|    name|     song|               value|\n",
      "+-----+------+--------+---------+--------------------+\n",
      "|Green|    55|Triple H|Throwdown|{\"name\": \"Triple ...|\n",
      "+-----+------+--------+---------+--------------------+\n",
      "\n"
     ]
    }
   ],
   "source": [
    "import json\n",
    "from pyspark.sql import SparkSession\n",
    "from pyspark.sql.types import StructType, StructField, StringType, IntegerType\n",
    "from pyspark.sql.functions import lit, col\n",
    "\n",
    "# Questions to answer - no need to edit this section:\n",
    "print(\"THIS HELL IN A CELL MATCH FEATURES THREE OF THE GREATEST WRESTLERS OF 2001.\")\n",
    "for i in range(1):\n",
    "    print(f\"WELCOME WRESTLER {i}!!!\")\n",
    "    name = input(\"What is your name?\")\n",
    "    favourite_colour = input(\"What is your favourite colour?\")\n",
    "    entrance_song = input(\"What track would you choose as your wrestler alter-ego entrance song?\")\n",
    "    height = input(\"How many feet will you plummet?\")\n",
    "\n",
    "    # Create a dictionary representing the JSON object\n",
    "    data = {\n",
    "        'name': name,\n",
    "        'color': favourite_colour,\n",
    "        'song': entrance_song,\n",
    "        'height': height\n",
    "    }\n",
    "\n",
    "    # Serialize the dictionary to a JSON string\n",
    "    json_string = json.dumps(data)\n",
    "\n",
    "    # Print the JSON string\n",
    "    print(json_string)\n",
    "\n",
    "    # Writing to data.json (this will save locally but likely inside the container)\n",
    "    with open(\"data.json\", \"w\") as outfile:\n",
    "        outfile.write(json_string)\n",
    "\n",
    "    spark = SparkSession.builder.appName(\"json_entrance_app\").config(\"spark.jars\",\"work/data/commons-pool2-2.11.1.jar,work/data/spark-sql-kafka-0-10_2.12-3.4.0.jar,work/data/spark-streaming-kafka-0-10-assembly_2.12-3.4.0.jar\").getOrCreate()\n",
    "\n",
    "    schema = StructType([\n",
    "        StructField(\"name\", StringType(), nullable=False),\n",
    "        StructField(\"color\", StringType(), nullable=False),\n",
    "        StructField(\"song\", StringType(), nullable=False),\n",
    "        StructField(\"height\", IntegerType(), nullable=False)\n",
    "    ])\n",
    "\n",
    "    # Use spark.read.load() to load the JSON data\n",
    "    df = spark.read.load('./data.json', \n",
    "        format='json',\n",
    "        multiLine=True,\n",
    "        schema=None\n",
    "        )\n",
    "\n",
    "    # Add 'value' column to the DataFrame using the .lit() spark method\n",
    "    df = df.withColumn(\"value\", lit(json_string))\n",
    "\n",
    "    df.show()\n",
    "\n",
    "    # Write the DataFrame to Kafka\n",
    "    df.write.format(\"kafka\").option(\"kafka.bootstrap.servers\", \"kafka:9092\").option(\"topic\", \"hell_in_a_cell_two\").save()"
   ]
  },
  {
   "cell_type": "code",
   "execution_count": 40,
   "metadata": {},
   "outputs": [
    {
     "ename": "StreamingQueryException",
     "evalue": "[STREAM_FAILED] Query [id = 91ff02be-94d8-43b0-9649-50e3264b2f27, runId = 03fb6a14-2052-490a-b626-6701050bceff] terminated with exception: Unable to find batch work/data/wrestler.csv/_spark_metadata/0.",
     "output_type": "error",
     "traceback": [
      "\u001b[0;31m---------------------------------------------------------------------------\u001b[0m",
      "\u001b[0;31mStreamingQueryException\u001b[0m                   Traceback (most recent call last)",
      "Cell \u001b[0;32mIn[40], line 38\u001b[0m\n\u001b[1;32m     28\u001b[0m \u001b[39m# writeStream to csv - you will have to look up how to do this one! Give it a go! \u001b[39;00m\n\u001b[1;32m     29\u001b[0m query \u001b[39m=\u001b[39m df \\\n\u001b[1;32m     30\u001b[0m     \u001b[39m.\u001b[39mwriteStream \\\n\u001b[1;32m     31\u001b[0m     \u001b[39m.\u001b[39moption(\u001b[39m'\u001b[39m\u001b[39mformat\u001b[39m\u001b[39m'\u001b[39m, \u001b[39m'\u001b[39m\u001b[39mappend\u001b[39m\u001b[39m'\u001b[39m) \\\n\u001b[0;32m   (...)\u001b[0m\n\u001b[1;32m     35\u001b[0m     \u001b[39m.\u001b[39moption(\u001b[39m'\u001b[39m\u001b[39mcheckpointLocation\u001b[39m\u001b[39m'\u001b[39m, \u001b[39m'\u001b[39m\u001b[39m./work/data/delete\u001b[39m\u001b[39m'\u001b[39m) \\\n\u001b[1;32m     36\u001b[0m     \u001b[39m.\u001b[39mstart()\n\u001b[0;32m---> 38\u001b[0m query\u001b[39m.\u001b[39;49mawaitTermination()\n",
      "File \u001b[0;32m/usr/local/spark/python/pyspark/sql/streaming/query.py:201\u001b[0m, in \u001b[0;36mStreamingQuery.awaitTermination\u001b[0;34m(self, timeout)\u001b[0m\n\u001b[1;32m    199\u001b[0m     \u001b[39mreturn\u001b[39;00m \u001b[39mself\u001b[39m\u001b[39m.\u001b[39m_jsq\u001b[39m.\u001b[39mawaitTermination(\u001b[39mint\u001b[39m(timeout \u001b[39m*\u001b[39m \u001b[39m1000\u001b[39m))\n\u001b[1;32m    200\u001b[0m \u001b[39melse\u001b[39;00m:\n\u001b[0;32m--> 201\u001b[0m     \u001b[39mreturn\u001b[39;00m \u001b[39mself\u001b[39;49m\u001b[39m.\u001b[39;49m_jsq\u001b[39m.\u001b[39;49mawaitTermination()\n",
      "File \u001b[0;32m/usr/local/spark/python/lib/py4j-0.10.9.7-src.zip/py4j/java_gateway.py:1322\u001b[0m, in \u001b[0;36mJavaMember.__call__\u001b[0;34m(self, *args)\u001b[0m\n\u001b[1;32m   1316\u001b[0m command \u001b[39m=\u001b[39m proto\u001b[39m.\u001b[39mCALL_COMMAND_NAME \u001b[39m+\u001b[39m\\\n\u001b[1;32m   1317\u001b[0m     \u001b[39mself\u001b[39m\u001b[39m.\u001b[39mcommand_header \u001b[39m+\u001b[39m\\\n\u001b[1;32m   1318\u001b[0m     args_command \u001b[39m+\u001b[39m\\\n\u001b[1;32m   1319\u001b[0m     proto\u001b[39m.\u001b[39mEND_COMMAND_PART\n\u001b[1;32m   1321\u001b[0m answer \u001b[39m=\u001b[39m \u001b[39mself\u001b[39m\u001b[39m.\u001b[39mgateway_client\u001b[39m.\u001b[39msend_command(command)\n\u001b[0;32m-> 1322\u001b[0m return_value \u001b[39m=\u001b[39m get_return_value(\n\u001b[1;32m   1323\u001b[0m     answer, \u001b[39mself\u001b[39;49m\u001b[39m.\u001b[39;49mgateway_client, \u001b[39mself\u001b[39;49m\u001b[39m.\u001b[39;49mtarget_id, \u001b[39mself\u001b[39;49m\u001b[39m.\u001b[39;49mname)\n\u001b[1;32m   1325\u001b[0m \u001b[39mfor\u001b[39;00m temp_arg \u001b[39min\u001b[39;00m temp_args:\n\u001b[1;32m   1326\u001b[0m     \u001b[39mif\u001b[39;00m \u001b[39mhasattr\u001b[39m(temp_arg, \u001b[39m\"\u001b[39m\u001b[39m_detach\u001b[39m\u001b[39m\"\u001b[39m):\n",
      "File \u001b[0;32m/usr/local/spark/python/pyspark/errors/exceptions/captured.py:175\u001b[0m, in \u001b[0;36mcapture_sql_exception.<locals>.deco\u001b[0;34m(*a, **kw)\u001b[0m\n\u001b[1;32m    171\u001b[0m converted \u001b[39m=\u001b[39m convert_exception(e\u001b[39m.\u001b[39mjava_exception)\n\u001b[1;32m    172\u001b[0m \u001b[39mif\u001b[39;00m \u001b[39mnot\u001b[39;00m \u001b[39misinstance\u001b[39m(converted, UnknownException):\n\u001b[1;32m    173\u001b[0m     \u001b[39m# Hide where the exception came from that shows a non-Pythonic\u001b[39;00m\n\u001b[1;32m    174\u001b[0m     \u001b[39m# JVM exception message.\u001b[39;00m\n\u001b[0;32m--> 175\u001b[0m     \u001b[39mraise\u001b[39;00m converted \u001b[39mfrom\u001b[39;00m \u001b[39mNone\u001b[39;00m\n\u001b[1;32m    176\u001b[0m \u001b[39melse\u001b[39;00m:\n\u001b[1;32m    177\u001b[0m     \u001b[39mraise\u001b[39;00m\n",
      "\u001b[0;31mStreamingQueryException\u001b[0m: [STREAM_FAILED] Query [id = 91ff02be-94d8-43b0-9649-50e3264b2f27, runId = 03fb6a14-2052-490a-b626-6701050bceff] terminated with exception: Unable to find batch work/data/wrestler.csv/_spark_metadata/0."
     ]
    }
   ],
   "source": [
    "from pyspark.sql.types import StructType, StringType\n",
    "from pyspark.sql.functions import from_json\n",
    "\n",
    "schema = StructType() \\\n",
    "    .add(\"name\", StringType()) \\\n",
    "    .add(\"color\", StringType()) \\\n",
    "    .add(\"song\", StringType()) \\\n",
    "    .add(\"height\", StringType()) \n",
    "\n",
    "# Read stream with all the required .option()\n",
    "df = spark \\\n",
    "    .readStream \\\n",
    "    .format(\"kafka\") \\\n",
    "    .option(\"kafka.bootstrap.servers\", \"kafka:9092\") \\\n",
    "    .option(\"subscribe\", \"hell_in_a_cell_two\") \\\n",
    "    .option(\"kafka.group.id\", \"test_two\") \\\n",
    "    .option(\"startingOffsets\", \"earliest\") \\\n",
    "    .option(\"maxOffsetsPerTrigger\", 1) \\\n",
    "    .load() \\\n",
    "    .selectExpr(\"CAST(value AS STRING)\")\n",
    "\n",
    "\n",
    "\n",
    "# Parse the JSON data and apply the schema with from_json()\n",
    "df = df.select(from_json(df.value, schema).alias(\"data\")).select(\"data.*\")\n",
    "\n",
    "\n",
    "# writeStream to csv - you will have to look up how to do this one! Give it a go! \n",
    "query = df \\\n",
    "    .writeStream \\\n",
    "    .option('format', 'append') \\\n",
    "    .outputMode(\"append\") \\\n",
    "    .format(\"csv\") \\\n",
    "    .option('path', './work/data/wrestler.csv') \\\n",
    "    .option('checkpointLocation', './work/data/delete') \\\n",
    "    .start()\n",
    "\n",
    "# query.awaitTermination()"
   ]
  },
  {
   "cell_type": "code",
   "execution_count": null,
   "metadata": {},
   "outputs": [],
   "source": []
  },
  {
   "cell_type": "code",
   "execution_count": 37,
   "metadata": {},
   "outputs": [
    {
     "name": "stdout",
     "output_type": "stream",
     "text": [
      "+--------------------+------+----------------+----+\n",
      "|                name|colour|            song|feet|\n",
      "+--------------------+------+----------------+----+\n",
      "|Stone Cold Steve ...|  null|Witchita Lineman|null|\n",
      "|      The Undertaker|  null|     Hells Bells|null|\n",
      "|                Kane|  null|      Fight Song|null|\n",
      "+--------------------+------+----------------+----+\n",
      "\n"
     ]
    }
   ],
   "source": [
    "import glob\n",
    " \n",
    "# list all csv files only\n",
    "csv_files = glob.glob('./work/data/wrestler.csv/*.{}'.format('csv'))\n",
    "\n",
    "# print(csv_files) # print this variable to see csv paths of individual csv files from the stream\n",
    "\n",
    "df = spark.read.csv(csv_files, header=False, schema=schema)\n",
    "\n",
    "df.show()\n"
   ]
  }
 ],
 "metadata": {
  "kernelspec": {
   "display_name": "Python 3 (ipykernel)",
   "language": "python",
   "name": "python3"
  },
  "language_info": {
   "codemirror_mode": {
    "name": "ipython",
    "version": 3
   },
   "file_extension": ".py",
   "mimetype": "text/x-python",
   "name": "python",
   "nbconvert_exporter": "python",
   "pygments_lexer": "ipython3",
   "version": "3.11.4"
  },
  "orig_nbformat": 4
 },
 "nbformat": 4,
 "nbformat_minor": 2
}
