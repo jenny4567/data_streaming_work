{
 "cells": [
  {
   "cell_type": "markdown",
   "metadata": {},
   "source": [
    "# Monsters Challange - 05 Spark Assessment"
   ]
  },
  {
   "cell_type": "markdown",
   "metadata": {},
   "source": [
    "Import relevant modules:"
   ]
  },
  {
   "cell_type": "code",
   "execution_count": 63,
   "metadata": {},
   "outputs": [],
   "source": [
    "from pyspark.sql import SparkSession\n",
    "from pyspark.sql.functions import col, when"
   ]
  },
  {
   "cell_type": "code",
   "execution_count": 64,
   "metadata": {},
   "outputs": [
    {
     "name": "stdout",
     "output_type": "stream",
     "text": [
      "DataFrame[name: string, url: string, cr: string, type: string, size: string, ac: int, hp: int, speed: string, align: string, legendary: string, source: string, str: double, dex: double, con: double, int: double, wis: double, cha: double]\n",
      "+--------------------+--------------------+---+--------------------+------+---+---+---------+-------------+---------+--------------------+----+----+----+----+----+----+\n",
      "|                name|                 url| cr|                type|  size| ac| hp|    speed|        align|legendary|              source| str| dex| con| int| wis| cha|\n",
      "+--------------------+--------------------+---+--------------------+------+---+---+---------+-------------+---------+--------------------+----+----+----+----+----+----+\n",
      "|           aarakocra|https://www.aided...|1/4|humanoid (aarakocra)|Medium| 12| 13|      fly| neutral good|     null| Monster Manual (BR)|10.0|14.0|10.0|11.0|12.0|11.0|\n",
      "|             abjurer|                null|  9| humanoid (any race)|Medium| 12| 84|     null|any alignment|     null|Volo's Guide to M...|null|null|null|null|null|null|\n",
      "|             aboleth|https://www.aided...| 10|          aberration| Large| 17|135|     swim|  lawful evil|Legendary|Monster Manual (SRD)|21.0| 9.0|15.0|18.0|15.0|18.0|\n",
      "|     abominable-yeti|                null|  9|         monstrosity|  Huge| 15|137|     null| chaotic evil|     null|      Monster Manual|null|null|null|null|null|null|\n",
      "|            acererak|                null| 23|              undead|Medium| 21|285|     null| neutral evil|     null|Adventures (Tomb ...|null|null|null|null|null|null|\n",
      "|             acolyte|https://www.aided...|1/4| humanoid (any race)|Medium| 10|  9|     null|any alignment|     null|Monster Manual (SRD)|10.0|10.0|10.0|10.0|14.0|11.0|\n",
      "|  adult-black-dragon|https://www.aided...| 14|              dragon|  Huge| 19|195|fly, swim| chaotic evil|Legendary|Monster Manual (SRD)|23.0|14.0|21.0|14.0|13.0|17.0|\n",
      "|adult-blue-dracolich|                null| 17|              undead|  Huge| 19|225|      fly|  lawful evil|Legendary|      Monster Manual|null|null|null|null|null|null|\n",
      "|   adult-blue-dragon|https://www.aided...| 16|              dragon|  Huge| 19|225|      fly|  lawful evil|Legendary|Monster Manual (SRD)|25.0|10.0|23.0|16.0|15.0|19.0|\n",
      "|  adult-brass-dragon|https://www.aided...| 13|              dragon|  Huge| 18|172|      fly| chaotic good|Legendary|Monster Manual (SRD)|23.0|10.0|21.0|14.0|13.0|17.0|\n",
      "| adult-bronze-dragon|https://www.aided...| 15|              dragon|  Huge| 19|212|fly, swim|  lawful good|Legendary|Monster Manual (SRD)|25.0|10.0|23.0|16.0|15.0|19.0|\n",
      "| adult-copper-dragon|https://www.aided...| 14|              dragon|  Huge| 18|184|      fly| chaotic good|Legendary|Monster Manual (SRD)|23.0|12.0|21.0|18.0|15.0|17.0|\n",
      "|   adult-gold-dragon|https://www.aided...| 17|              dragon|  Huge| 19|256|fly, swim|  lawful good|Legendary|Monster Manual (SRD)|27.0|14.0|25.0|16.0|15.0|24.0|\n",
      "|  adult-green-dragon|https://www.aided...| 15|              dragon|  Huge| 19|207|fly, swim|  lawful evil|Legendary|Monster Manual (SRD)|23.0|12.0|21.0|18.0|15.0|17.0|\n",
      "|       adult-kruthik|                null|  2|         monstrosity|Medium| 18| 39|     null|    unaligned|     null|Mordenkainen's To...|null|null|null|null|null|null|\n",
      "|         adult-oblex|                null|  5|                ooze|Medium| 14| 75|     null|  lawful evil|     null|Mordenkainen's To...|null|null|null|null|null|null|\n",
      "|    adult-red-dragon|https://www.aided...| 17|              dragon|  Huge| 19|256|      fly| chaotic evil|Legendary|Monster Manual (SRD)|27.0|10.0|25.0|16.0|13.0|21.0|\n",
      "| adult-silver-dragon|https://www.aided...| 16|              dragon|  Huge| 19|243|      fly|  lawful good|Legendary|Monster Manual (SRD)|27.0|10.0|25.0|16.0|13.0|21.0|\n",
      "|  adult-white-dragon|https://www.aided...| 13|              dragon|  Huge| 18|200|fly, swim| chaotic evil|Legendary|Monster Manual (SRD)|22.0|10.0|22.0| 8.0|12.0|12.0|\n",
      "|       air-elemental|https://www.aided...|  5|           elemental| Large| 15| 90|      fly|      neutral|     null|Monster Manual (SRD)|14.0|20.0|14.0| 6.0|10.0| 6.0|\n",
      "+--------------------+--------------------+---+--------------------+------+---+---+---------+-------------+---------+--------------------+----+----+----+----+----+----+\n",
      "only showing top 20 rows\n",
      "\n"
     ]
    }
   ],
   "source": [
    "# Create a SparkSession and context\n",
    "spark = SparkSession.builder.appName(\"MonsterDataFrame\").getOrCreate()\n",
    "\n",
    "# Load data into dataframe\n",
    "path = \"./work/dnd_monsters.csv\"\n",
    "df = spark.read.options(header=True, inferSchema=True).csv(path)\n",
    "print(df)\n",
    "df.show()"
   ]
  },
  {
   "cell_type": "markdown",
   "metadata": {},
   "source": [
    "I used inferSchema to create a schema automatically rather than manually.\n",
    "\n",
    "### SQL method"
   ]
  },
  {
   "cell_type": "code",
   "execution_count": 65,
   "metadata": {},
   "outputs": [
    {
     "name": "stdout",
     "output_type": "stream",
     "text": [
      "+--------------------+------------+\n",
      "|                name|adjusted_dex|\n",
      "+--------------------+------------+\n",
      "|              zariel|        22.0|\n",
      "|               solar|        20.0|\n",
      "|              moloch|        19.0|\n",
      "|             vampire|        18.0|\n",
      "|                lich|        16.0|\n",
      "|             unicorn|        14.0|\n",
      "|          gynosphinx|        13.0|\n",
      "|  adult-black-dragon|        12.0|\n",
      "|   adult-gold-dragon|        12.0|\n",
      "|ancient-black-dragon|        12.0|\n",
      "| ancient-gold-dragon|        12.0|\n",
      "|               orcus|        12.0|\n",
      "|              kraken|        11.0|\n",
      "|           tarrasque|        11.0|\n",
      "| adult-copper-dragon|        10.0|\n",
      "|  adult-green-dragon|        10.0|\n",
      "|ancient-copper-dr...|        10.0|\n",
      "|ancient-green-dragon|        10.0|\n",
      "|          mummy-lord|        10.0|\n",
      "|             aboleth|         9.0|\n",
      "+--------------------+------------+\n",
      "\n"
     ]
    }
   ],
   "source": [
    "# Register the DataFrame as a temporary table\n",
    "df.createOrReplaceTempView(\"monsters\")\n",
    "\n",
    "# Perform SQL queries on the DataFrame\n",
    "sql_query = \"\"\"\n",
    "    SELECT \n",
    "        name, \n",
    "        CASE WHEN LOCATE('fly', speed) > 0 THEN dex - 2 ELSE dex END AS adjusted_dex\n",
    "    FROM monsters\n",
    "    WHERE legendary = 'Legendary'\n",
    "    ORDER BY adjusted_dex DESC\n",
    "    LIMIT 20\n",
    "\"\"\"\n",
    "result = spark.sql(sql_query)\n",
    "\n",
    "# Show the query result\n",
    "result.show()"
   ]
  },
  {
   "cell_type": "markdown",
   "metadata": {},
   "source": [
    "### Pyspark method"
   ]
  },
  {
   "cell_type": "code",
   "execution_count": 66,
   "metadata": {},
   "outputs": [
    {
     "name": "stdout",
     "output_type": "stream",
     "text": [
      "+--------------------+------------+\n",
      "|                name|adjusted_dex|\n",
      "+--------------------+------------+\n",
      "|              zariel|        22.0|\n",
      "|               solar|        20.0|\n",
      "|              moloch|        19.0|\n",
      "|             vampire|        18.0|\n",
      "|                lich|        16.0|\n",
      "|             unicorn|        14.0|\n",
      "|          gynosphinx|        13.0|\n",
      "|  adult-black-dragon|        12.0|\n",
      "|   adult-gold-dragon|        12.0|\n",
      "|ancient-black-dragon|        12.0|\n",
      "| ancient-gold-dragon|        12.0|\n",
      "|               orcus|        12.0|\n",
      "|              kraken|        11.0|\n",
      "|           tarrasque|        11.0|\n",
      "| adult-copper-dragon|        10.0|\n",
      "|  adult-green-dragon|        10.0|\n",
      "|ancient-copper-dr...|        10.0|\n",
      "|ancient-green-dragon|        10.0|\n",
      "|          mummy-lord|        10.0|\n",
      "|             aboleth|         9.0|\n",
      "+--------------------+------------+\n",
      "only showing top 20 rows\n",
      "\n"
     ]
    }
   ],
   "source": [
    "# Create new dataframe with adjusted dex column\n",
    "df_adjusted_dex = df.withColumn('adjusted_dex', when(df.speed.contains('fly'), df.dex - 2).otherwise(df.dex))\n",
    "\n",
    "# Sort by new adjusted dex column and show top 20 which are legendary\n",
    "df_adjusted_dex.select(df_adjusted_dex.name, df_adjusted_dex.adjusted_dex).where(df_adjusted_dex.legendary == 'Legendary').orderBy(col('adjusted_dex').desc()).show(20)"
   ]
  }
 ],
 "metadata": {
  "kernelspec": {
   "display_name": "Python 3 (ipykernel)",
   "language": "python",
   "name": "python3"
  },
  "orig_nbformat": 4
 },
 "nbformat": 4,
 "nbformat_minor": 2
}
