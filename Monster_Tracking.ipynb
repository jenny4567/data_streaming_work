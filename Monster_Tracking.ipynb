{
 "cells": [
  {
   "cell_type": "markdown",
   "id": "23311361-844a-48e4-9d9c-89d3de3cfc18",
   "metadata": {},
   "source": [
    "# Monster Tracking\n",
    "\n",
    "First import relevant modules:"
   ]
  },
  {
   "cell_type": "code",
   "execution_count": 2,
   "id": "ea113bc4",
   "metadata": {},
   "outputs": [
    {
     "name": "stdout",
     "output_type": "stream",
     "text": [
      "Collecting kafka-python\n",
      "  Downloading kafka_python-2.0.2-py2.py3-none-any.whl (246 kB)\n",
      "\u001b[2K     \u001b[90m━━━━━━━━━━━━━━━━━━━━━━━━━━━━━━━━━━━━━━━\u001b[0m \u001b[32m246.5/246.5 kB\u001b[0m \u001b[31m3.6 MB/s\u001b[0m eta \u001b[36m0:00:00\u001b[0ma \u001b[36m0:00:01\u001b[0m\n",
      "\u001b[?25hInstalling collected packages: kafka-python\n",
      "Successfully installed kafka-python-2.0.2\n",
      "Note: you may need to restart the kernel to use updated packages.\n"
     ]
    }
   ],
   "source": [
    "%pip install kafka-python"
   ]
  },
  {
   "cell_type": "code",
   "execution_count": 21,
   "id": "9b99f0cd-7109-41dd-99b9-fbc562e72a1a",
   "metadata": {},
   "outputs": [],
   "source": [
    "import kafka\n",
    "from kafka.admin import KafkaAdminClient, NewTopic\n",
    "import json\n",
    "import random\n",
    "import time\n",
    "from datetime import datetime\n",
    "from pyspark.sql import SparkSession\n",
    "from pyspark.sql.functions import lit, rand\n",
    "from geopy.geocoders import Nominatim\n",
    "from pyspark.sql.types import StructType, StructField, StringType, IntegerType, FloatType\n",
    "from geonamescache import GeonamesCache"
   ]
  },
  {
   "cell_type": "markdown",
   "id": "44455da1-c4e3-475c-98d7-a14cf5955162",
   "metadata": {},
   "source": [
    " Create a topic called: monster_movement:"
   ]
  },
  {
   "cell_type": "code",
   "execution_count": 4,
   "id": "0ade3b72-a4ea-4193-a31f-c46804a0e3a4",
   "metadata": {},
   "outputs": [],
   "source": [
    "admin_client = KafkaAdminClient(bootstrap_servers=\"kafka:9092\")\n",
    "topics = [NewTopic(name=\"monster_movement\", num_partitions=1, replication_factor=1)]\n",
    "admin_client.create_topics(new_topics=topics)\n",
    "admin_client.close()"
   ]
  },
  {
   "cell_type": "code",
   "execution_count": null,
   "id": "76e74628",
   "metadata": {},
   "outputs": [],
   "source": [
    "# admin_client = KafkaAdminClient(bootstrap_servers=\"kafka:9092\")\n",
    "# topics = [NewTopic(name=\"country_damage\", num_partitions=1, replication_factor=1)]\n",
    "# admin_client.create_topics(new_topics=topics)\n",
    "# admin_client.close()"
   ]
  },
  {
   "cell_type": "markdown",
   "id": "f89dc5d6-7deb-483a-beb2-15c44d40376a",
   "metadata": {},
   "source": [
    "Next we'll generate the data. We want to use the functions we create in our Spark streaming practice examples. What we want to achieve is:\n",
    "\n",
    "- Create 200 events.\n",
    "- The event should pick five random rows from our dnd_monsters.csv and return the monster's name and str characteristic.\n",
    "- Along with the name and str we need the latitude and longitude of the monster and a timestamp. Latitude is between -90 and 90 and longitude is -180 to 180.\n",
    "- Add a timestamp field called ts.\n",
    "- Remember to put everything into JSON then into a field called value for the kafka message.\n",
    "- Don't write to Kafka yet."
   ]
  },
  {
   "cell_type": "code",
   "execution_count": 6,
   "id": "f7d6d139-5a6c-4a6d-8776-dcd256c7feb6",
   "metadata": {},
   "outputs": [
    {
     "name": "stdout",
     "output_type": "stream",
     "text": [
      "+--------------------+----+\n",
      "|                name| str|\n",
      "+--------------------+----+\n",
      "|           aarakocra|10.0|\n",
      "|             abjurer|null|\n",
      "|             aboleth|21.0|\n",
      "|     abominable-yeti|null|\n",
      "|            acererak|null|\n",
      "|             acolyte|10.0|\n",
      "|  adult-black-dragon|23.0|\n",
      "|adult-blue-dracolich|null|\n",
      "|   adult-blue-dragon|25.0|\n",
      "|  adult-brass-dragon|23.0|\n",
      "| adult-bronze-dragon|25.0|\n",
      "| adult-copper-dragon|23.0|\n",
      "|   adult-gold-dragon|27.0|\n",
      "|  adult-green-dragon|23.0|\n",
      "|       adult-kruthik|null|\n",
      "|         adult-oblex|null|\n",
      "|    adult-red-dragon|27.0|\n",
      "| adult-silver-dragon|27.0|\n",
      "|  adult-white-dragon|22.0|\n",
      "|       air-elemental|14.0|\n",
      "+--------------------+----+\n",
      "only showing top 20 rows\n",
      "\n"
     ]
    }
   ],
   "source": [
    "# Create a SparkSession and context\n",
    "spark = SparkSession.builder.appName(\"MonsterTracker\").config(\"spark.jars\",\"work/data/commons-pool2-2.11.1.jar,work/data/spark-sql-kafka-0-10_2.12-3.4.0.jar,work/data/spark-streaming-kafka-0-10-assembly_2.12-3.4.0.jar\").getOrCreate()\n",
    "\n",
    "# Load data into dataframe\n",
    "path = \"./work/data/dnd_monsters.csv\"\n",
    "df = spark.read.options(header=True, inferSchema=True).csv(path)\n",
    "#df.show()\n",
    "\n",
    "# Register the DataFrame as a temporary table\n",
    "df.createOrReplaceTempView(\"monsters\")\n",
    "\n",
    "# Perform SQL query to get name and strength on the DataFrame\n",
    "sql_query = \"\"\"\n",
    "    SELECT name, str\n",
    "    FROM monsters\n",
    "\"\"\"\n",
    "result = spark.sql(sql_query)\n",
    "\n",
    "# Show the query result\n",
    "result.show()\n",
    "\n"
   ]
  },
  {
   "cell_type": "code",
   "execution_count": 27,
   "id": "b4dd47d2-a3ba-45bd-b0b4-af1627794f1a",
   "metadata": {},
   "outputs": [
    {
     "name": "stdout",
     "output_type": "stream",
     "text": [
      "Event  1\n",
      "{\"name\": \"giant-toad\", \"str\": 15.0, \"lat\": 86, \"long\": -3, \"ts\": \"2023-08-01 13:20:06.374783\", \"country\": \"sea\", \"population\": null, \"damage\": null}{\"name\": \"githyanki-knight\", \"str\": null, \"lat\": 40, \"long\": -171, \"ts\": \"2023-08-01 13:20:06.878936\", \"country\": \"sea\", \"population\": null, \"damage\": null}{\"name\": \"gnoll-pack-lord\", \"str\": 16.0, \"lat\": -6, \"long\": 173, \"ts\": \"2023-08-01 13:20:07.378060\", \"country\": \"sea\", \"population\": null, \"damage\": null}{\"name\": \"giant-centipede\", \"str\": 5.0, \"lat\": -48, \"long\": -125, \"ts\": \"2023-08-01 13:20:07.875144\", \"country\": \"sea\", \"population\": null, \"damage\": null}{\"name\": \"skulk\", \"str\": null, \"lat\": -42, \"long\": -143, \"ts\": \"2023-08-01 13:20:08.378165\", \"country\": \"sea\", \"population\": null, \"damage\": null}\n",
      "Event  2\n",
      "{\"name\": \"polar-bear\", \"str\": 20.0, \"lat\": -82, \"long\": -78, \"ts\": \"2023-08-01 13:20:08.875376\", \"country\": \"sea\", \"population\": null, \"damage\": null}{\"name\": \"neogi-master\", \"str\": null, \"lat\": 21, \"long\": 60, \"ts\": \"2023-08-01 13:20:09.379931\", \"country\": \"sea\", \"population\": null, \"damage\": null}{\"name\": \"dust-mephit\", \"str\": 5.0, \"lat\": 68, \"long\": 87, \"ts\": \"2023-08-01 13:20:09.894350\", \"country\": \"Russia\", \"population\": 144478050, \"damage\": 5.0}{\"name\": \"umber-hulk\", \"str\": 20.0, \"lat\": 79, \"long\": -152, \"ts\": \"2023-08-01 13:20:10.416938\", \"country\": \"sea\", \"population\": null, \"damage\": null}{\"name\": \"wereboar\", \"str\": 17.0, \"lat\": -21, \"long\": -78, \"ts\": \"2023-08-01 13:20:10.931606\", \"country\": \"sea\", \"population\": null, \"damage\": null}\n",
      "Event  3\n",
      "{\"name\": \"ogre\", \"str\": 19.0, \"lat\": -20, \"long\": -85, \"ts\": \"2023-08-01 13:20:11.378390\", \"country\": \"sea\", \"population\": null, \"damage\": null}{\"name\": \"silver-dragon-wyrmling\", \"str\": 19.0, \"lat\": -25, \"long\": -148, \"ts\": \"2023-08-01 13:20:11.884060\", \"country\": \"sea\", \"population\": null, \"damage\": null}{\"name\": \"armanite\", \"str\": null, \"lat\": -50, \"long\": 135, \"ts\": \"2023-08-01 13:20:12.375010\", \"country\": \"sea\", \"population\": null, \"damage\": null}{\"name\": \"giant-boar\", \"str\": 17.0, \"lat\": 24, \"long\": 175, \"ts\": \"2023-08-01 13:20:12.874185\", \"country\": \"sea\", \"population\": null, \"damage\": null}{\"name\": \"rust-monster\", \"str\": 13.0, \"lat\": 89, \"long\": -105, \"ts\": \"2023-08-01 13:20:13.387574\", \"country\": \"sea\", \"population\": null, \"damage\": null}\n",
      "Event  4\n",
      "{\"name\": \"expert-lvl-6\", \"str\": null, \"lat\": 41, \"long\": 6, \"ts\": \"2023-08-01 13:20:13.886727\", \"country\": \"sea\", \"population\": null, \"damage\": null}{\"name\": \"soul-monger\", \"str\": null, \"lat\": 12, \"long\": 121, \"ts\": \"2023-08-01 13:20:14.416561\", \"country\": \"Philippines\", \"population\": 106651922, \"damage\": null}{\"name\": \"vegepygmy-chief\", \"str\": null, \"lat\": 44, \"long\": -130, \"ts\": \"2023-08-01 13:20:14.885518\", \"country\": \"sea\", \"population\": null, \"damage\": null}{\"name\": \"ettercap\", \"str\": 14.0, \"lat\": -63, \"long\": -35, \"ts\": \"2023-08-01 13:20:15.384446\", \"country\": \"sea\", \"population\": null, \"damage\": null}{\"name\": \"white-abishai\", \"str\": null, \"lat\": 62, \"long\": 30, \"ts\": \"2023-08-01 13:20:15.896110\", \"country\": \"Finland\", \"population\": 5518050, \"damage\": null}\n",
      "Event  5\n",
      "{\"name\": \"sea-horse\", \"str\": 1.0, \"lat\": -46, \"long\": 140, \"ts\": \"2023-08-01 13:20:16.384155\", \"country\": \"sea\", \"population\": null, \"damage\": null}{\"name\": \"vegepygmy-chief\", \"str\": null, \"lat\": -81, \"long\": -89, \"ts\": \"2023-08-01 13:20:16.881048\", \"country\": \"sea\", \"population\": null, \"damage\": null}{\"name\": \"tortle\", \"str\": null, \"lat\": 51, \"long\": -126, \"ts\": \"2023-08-01 13:20:17.488763\", \"country\": \"Canada\", \"population\": 37058856, \"damage\": null}{\"name\": \"brontosaurus\", \"str\": null, \"lat\": 28, \"long\": -4, \"ts\": \"2023-08-01 13:20:17.891052\", \"country\": \"Algeria\", \"population\": 42228429, \"damage\": null}{\"name\": \"fomorian\", \"str\": null, \"lat\": 15, \"long\": 52, \"ts\": \"2023-08-01 13:20:18.405554\", \"country\": \"sea\", \"population\": null, \"damage\": null}\n",
      "Event  6\n",
      "{\"name\": \"guard\", \"str\": 13.0, \"lat\": 33, \"long\": -168, \"ts\": \"2023-08-01 13:20:18.876108\", \"country\": \"sea\", \"population\": null, \"damage\": null}{\"name\": \"mantrap\", \"str\": null, \"lat\": -4, \"long\": 166, \"ts\": \"2023-08-01 13:20:19.385842\", \"country\": \"sea\", \"population\": null, \"damage\": null}{\"name\": \"invisible-stalker\", \"str\": 16.0, \"lat\": 29, \"long\": 51, \"ts\": \"2023-08-01 13:20:19.903836\", \"country\": \"Iran\", \"population\": 81800269, \"damage\": 16.0}{\"name\": \"hunter-shark\", \"str\": 18.0, \"lat\": -65, \"long\": 40, \"ts\": \"2023-08-01 13:20:20.377289\", \"country\": \"sea\", \"population\": null, \"damage\": null}{\"name\": \"planetar\", \"str\": 24.0, \"lat\": 38, \"long\": -131, \"ts\": \"2023-08-01 13:20:20.885383\", \"country\": \"sea\", \"population\": null, \"damage\": null}\n",
      "Event  7\n",
      "{\"name\": \"wight\", \"str\": 15.0, \"lat\": -62, \"long\": 32, \"ts\": \"2023-08-01 13:20:21.381565\", \"country\": \"sea\", \"population\": null, \"damage\": null}{\"name\": \"ogre-battering-ram\", \"str\": null, \"lat\": 65, \"long\": 137, \"ts\": \"2023-08-01 13:20:21.991199\", \"country\": \"Russia\", \"population\": 144478050, \"damage\": null}{\"name\": \"elder-tempest\", \"str\": null, \"lat\": -35, \"long\": -43, \"ts\": \"2023-08-01 13:20:22.402954\", \"country\": \"sea\", \"population\": null, \"damage\": null}{\"name\": \"displacer-beast\", \"str\": null, \"lat\": 23, \"long\": 157, \"ts\": \"2023-08-01 13:20:22.881272\", \"country\": \"sea\", \"population\": null, \"damage\": null}{\"name\": \"yuan-ti-pit-master\", \"str\": null, \"lat\": 13, \"long\": 31, \"ts\": \"2023-08-01 13:20:23.390736\", \"country\": \"Sudan\", \"population\": 41801533, \"damage\": null}\n",
      "Event  8\n",
      "{\"name\": \"swarm-of-quippers\", \"str\": 13.0, \"lat\": 12, \"long\": -116, \"ts\": \"2023-08-01 13:20:23.878930\", \"country\": \"sea\", \"population\": null, \"damage\": null}{\"name\": \"hellwasp\", \"str\": null, \"lat\": 30, \"long\": 152, \"ts\": \"2023-08-01 13:20:24.380337\", \"country\": \"sea\", \"population\": null, \"damage\": null}{\"name\": \"lich\", \"str\": 11.0, \"lat\": -45, \"long\": 51, \"ts\": \"2023-08-01 13:20:24.879819\", \"country\": \"sea\", \"population\": null, \"damage\": null}{\"name\": \"camel\", \"str\": 16.0, \"lat\": 11, \"long\": 86, \"ts\": \"2023-08-01 13:20:25.381064\", \"country\": \"sea\", \"population\": null, \"damage\": null}{\"name\": \"ice-mephit\", \"str\": 7.0, \"lat\": -84, \"long\": -91, \"ts\": \"2023-08-01 13:20:25.983782\", \"country\": \"sea\", \"population\": null, \"damage\": null}\n",
      "Event  9\n",
      "{\"name\": \"expert-lvl-3\", \"str\": null, \"lat\": -59, \"long\": -152, \"ts\": \"2023-08-01 13:20:26.375296\", \"country\": \"sea\", \"population\": null, \"damage\": null}{\"name\": \"oblex-spawn\", \"str\": null, \"lat\": 60, \"long\": 23, \"ts\": \"2023-08-01 13:20:26.895885\", \"country\": \"Finland\", \"population\": 5518050, \"damage\": null}{\"name\": \"laeral-silverhand\", \"str\": 13.0, \"lat\": -78, \"long\": -70, \"ts\": \"2023-08-01 13:20:27.380775\", \"country\": \"sea\", \"population\": null, \"damage\": null}{\"name\": \"mindwitness\", \"str\": 10.0, \"lat\": -59, \"long\": -145, \"ts\": \"2023-08-01 13:20:27.879880\", \"country\": \"sea\", \"population\": null, \"damage\": null}{\"name\": \"death-knight\", \"str\": null, \"lat\": -62, \"long\": 28, \"ts\": \"2023-08-01 13:20:28.434928\", \"country\": \"sea\", \"population\": null, \"damage\": null}\n"
     ]
    }
   ],
   "source": [
    "def country_finder(latitude, longitude): \n",
    "    geolocator = Nominatim(user_agent=\"my_geocoder\") # Create a geocoder instance\n",
    "    location = geolocator.reverse((latitude, longitude), language='en') # Reverse geocode to get the location information\n",
    "    try:\n",
    "        country = location.raw['address']['country']\n",
    "    except:\n",
    "        return \"sea\"\n",
    "    return country\n",
    "\n",
    "def get_country_population(country_name):\n",
    "    geonames = GeonamesCache()\n",
    "    # population = 1\n",
    "    try:\n",
    "        country_data = geonames.get_countries_by_names().get(country_name)\n",
    "        population = country_data.get('population')\n",
    "    except:\n",
    "        population = 1\n",
    "        print(\"{} country not found\".format(population))\n",
    "    return population\n",
    "\n",
    "for int in range(1,10):\n",
    "    print('Event ', int)\n",
    "    monster_json_string = ''\n",
    "    random_lines = result.orderBy(rand()).limit(5)\n",
    "    list_tuples = random_lines.rdd.map(tuple).collect()\n",
    "    for monster in list_tuples:\n",
    "        lat = random.randint(-90, 90)\n",
    "        long = random.randint(-180, 180)\n",
    "        country = country_finder(lat, long)\n",
    "        if country != 'sea':\n",
    "            population = get_country_population(country)\n",
    "            if (population > 1) & (type(monster[1]) == int):\n",
    "                damage = population * monster[1] / 1000\n",
    "            else:\n",
    "                damage = monster[1]\n",
    "        else:\n",
    "            population = None\n",
    "            damage = None\n",
    "        monster_data = {\n",
    "            \"name\": monster[0],\n",
    "            \"str\": monster[1],\n",
    "            \"lat\": lat,\n",
    "            \"long\": long,\n",
    "            \"ts\": str(datetime.now()),\n",
    "            \"country\": country,\n",
    "            \"population\": population,\n",
    "            \"damage\": damage\n",
    "        }\n",
    "        monster_json_string += json.dumps(monster_data)  \n",
    "    # print(monster_json_string)\n",
    "    monster_data = [(monster_json_string,),]\n",
    "    random_monster_df = spark.createDataFrame(monster_data, [\"value\"])\n",
    "    #random_monster_df.show(1, False)\n",
    "    # Write the DataFrame to Kafka\n",
    "    random_monster_df.write \\\n",
    "        .format(\"kafka\") \\\n",
    "        .option(\"kafka.bootstrap.servers\", \"kafka:9092\") \\\n",
    "        .option(\"topic\", \"monster_movements\") \\\n",
    "        .save()"
   ]
  },
  {
   "cell_type": "code",
   "execution_count": 18,
   "id": "3c3ea579-d5e8-4df3-a758-08247ef84518",
   "metadata": {},
   "outputs": [
    {
     "name": "stdout",
     "output_type": "stream",
     "text": [
      "Requirement already satisfied: geonamescache in /opt/conda/lib/python3.11/site-packages (2.0.0)\n",
      "Note: you may need to restart the kernel to use updated packages.\n"
     ]
    }
   ],
   "source": [
    "%pip install geonamescache"
   ]
  },
  {
   "cell_type": "code",
   "execution_count": 13,
   "id": "f66b7242-0aed-4e2d-bc50-c34cd6cfb200",
   "metadata": {},
   "outputs": [],
   "source": [
    "\n"
   ]
  }
 ],
 "metadata": {
  "kernelspec": {
   "display_name": "Python 3 (ipykernel)",
   "language": "python",
   "name": "python3"
  },
  "language_info": {
   "codemirror_mode": {
    "name": "ipython",
    "version": 3
   },
   "file_extension": ".py",
   "mimetype": "text/x-python",
   "name": "python",
   "nbconvert_exporter": "python",
   "pygments_lexer": "ipython3",
   "version": "3.11.4"
  }
 },
 "nbformat": 4,
 "nbformat_minor": 5
}
